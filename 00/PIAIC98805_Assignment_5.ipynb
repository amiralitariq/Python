{
  "nbformat": 4,
  "nbformat_minor": 0,
  "metadata": {
    "colab": {
      "provenance": [],
      "authorship_tag": "ABX9TyPwtAafIOvLrgTMyvvJZPEq",
      "include_colab_link": true
    },
    "kernelspec": {
      "name": "python3",
      "display_name": "Python 3"
    },
    "language_info": {
      "name": "python"
    }
  },
  "cells": [
    {
      "cell_type": "markdown",
      "metadata": {
        "id": "view-in-github",
        "colab_type": "text"
      },
      "source": [
        "<a href=\"https://colab.research.google.com/github/amiralitariq/Python/blob/main/PIAIC98805_Assignment_5.ipynb\" target=\"_parent\"><img src=\"https://colab.research.google.com/assets/colab-badge.svg\" alt=\"Open In Colab\"/></a>"
      ]
    },
    {
      "cell_type": "markdown",
      "source": [
        " **Question 1: Ticket Pricing System**"
      ],
      "metadata": {
        "id": "W3YNoSX5_KBA"
      }
    },
    {
      "cell_type": "code",
      "source": [
        "input_age = int(input(\"Enter age: \"))\n",
        "if input_age < 5:\n",
        "    print(\"Ticket price: Free\")\n",
        "elif input_age >= 5 and input_age <= 17:\n",
        "    print(\"Ticket price: $10\")\n",
        "elif input_age >= 18 and input_age <= 60:\n",
        "    print(\"Ticket price: $20\")\n",
        "else:\n",
        "    print(\"Ticket price: $15\")"
      ],
      "metadata": {
        "colab": {
          "base_uri": "https://localhost:8080/"
        },
        "id": "7M7WT7x__L0n",
        "outputId": "da2e9969-d485-4500-d7cc-e4b642d064be"
      },
      "execution_count": 3,
      "outputs": [
        {
          "output_type": "stream",
          "name": "stdout",
          "text": [
            "Enter your age: 15\n",
            "Ticket price: $10\n"
          ]
        }
      ]
    },
    {
      "cell_type": "markdown",
      "source": [
        "**Question 2: Meal Recommendation**"
      ],
      "metadata": {
        "id": "aos54UeZAM9R"
      }
    },
    {
      "cell_type": "code",
      "source": [
        "input_time = int(input (\"Enter time in 24-hour format (e.g., 13 for 1 PM, 18 for 6 PM). \"))\n",
        "if input_time >=5 and input_time <= 11:\n",
        "    print(\"Recommended Meal: Breakfast\")\n",
        "elif input_time >=12 and input_time <= 16:\n",
        "    print(\"Recommended Meal: Lunch\")\n",
        "elif input_time >=17 and input_time <= 21:\n",
        "    print(\"Recommended Meal: Dinner\")\n",
        "else:\n",
        "    print(\"Recommended Meal: Late-night Snack\")"
      ],
      "metadata": {
        "colab": {
          "base_uri": "https://localhost:8080/"
        },
        "id": "jEOKzI17ASc_",
        "outputId": "b6edc22c-482d-4d4f-998b-897b37f49fbf"
      },
      "execution_count": 10,
      "outputs": [
        {
          "output_type": "stream",
          "name": "stdout",
          "text": [
            "Enter time in 24-hour format (e.g., 13 for 1 PM, 18 for 6 PM). 14\n",
            "Recommended Meal: Lunch\n"
          ]
        }
      ]
    },
    {
      "cell_type": "markdown",
      "source": [
        "**Question 3: Grocery Bill Calculator**"
      ],
      "metadata": {
        "id": "1-J36B2ZBqoI"
      }
    },
    {
      "cell_type": "code",
      "source": [
        "#Takes the price of 5 grocery items as input from the user\n",
        "\n",
        "item1 = float(input(\"Enter price of item 1: \"))\n",
        "item2 = float(input(\"Enter price of item 2: \"))\n",
        "item3 = float(input(\"Enter price of item 3: \"))\n",
        "item4 = float(input(\"Enter price of item 4: \"))\n",
        "item5 = float(input(\"Enter price of item 5: \"))\n",
        "\n",
        "#Calculates the total cost of the items\n",
        "\n",
        "total_cost = item1 + item2 + item3 + item4 + item5\n",
        "\n",
        "#print the bill\n",
        "\n",
        "print(\"Grocery Bill:\", total_cost)\n",
        "\n",
        "#if the total bill is more than $100, it applies a 10% discount and prints the discounted total\n",
        "\n",
        "if total_cost > 100:\n",
        "    discounted_total = total_cost * 0.9\n",
        "    print(\"Discounted Total:\", discounted_total)"
      ],
      "metadata": {
        "colab": {
          "base_uri": "https://localhost:8080/"
        },
        "id": "KIA1LxP0Chq_",
        "outputId": "34aeccf2-c3e4-40da-a0af-6c2b231e879f"
      },
      "execution_count": 17,
      "outputs": [
        {
          "output_type": "stream",
          "name": "stdout",
          "text": [
            "Enter price of item 1: 10\n",
            "Enter price of item 2: 20\n",
            "Enter price of item 3: 30\n",
            "Enter price of item 4: 40\n",
            "Enter price of item 5: 50\n",
            "Grocery Bill: 150.0\n",
            "Discounted Total: 135.0\n"
          ]
        }
      ]
    },
    {
      "cell_type": "markdown",
      "source": [
        "**Question 4: Username Validator**"
      ],
      "metadata": {
        "id": "pdECEDBfDUu5"
      }
    },
    {
      "cell_type": "code",
      "source": [
        "#input a username\n",
        "username = input(\"Enter a username: \")\n",
        "\n",
        "#Checks if the username is valid using the following rules:\n",
        "#The username must be between 5 and 15 characters long.\n",
        "#The username must start with a letter (A-Z or a-z).\n",
        "\n",
        "if len(username) >= 5 and len(username) <= 15:\n",
        "    if username[0].isalpha():\n",
        "        print(\"Valid Username\")\n",
        "    else:\n",
        "        print(\"Invalid Username\")\n",
        "else:\n",
        "    print(\"Invalid Username\")"
      ],
      "metadata": {
        "colab": {
          "base_uri": "https://localhost:8080/"
        },
        "id": "eJLQEdkEDYOB",
        "outputId": "8f88af3e-795d-4480-c89a-ecb19c6bc5cb"
      },
      "execution_count": 22,
      "outputs": [
        {
          "output_type": "stream",
          "name": "stdout",
          "text": [
            "Enter a username: admin\n",
            "Valid Username\n"
          ]
        }
      ]
    },
    {
      "cell_type": "markdown",
      "source": [
        "**Question 5: Travel Destination Suggestion**"
      ],
      "metadata": {
        "id": "pMtaNES4EQi4"
      }
    },
    {
      "cell_type": "code",
      "source": [
        "#Asks the user for their preferred weather (Sunny, Rainy, or Snowy)\n",
        "\n",
        "weather = input(\"Enter preferred weather (Sunny, Rainy, or Snowy): \")\n",
        "\n",
        "# Suggests a travel destination based on the weather:\n",
        "# Sunny: \"Go to the beach!\"\n",
        "# Rainy: \"Visit a cozy mountain lodge!\"\n",
        "# Snowy: \"Time for a ski trip!\"\n",
        "\n",
        "if weather == \"Sunny\":\n",
        "    print(\"Go to the beach!\")\n",
        "elif weather == \"Rainy\":\n",
        "    print(\"Visit a cozy mountain lodge!\")\n",
        "elif weather == \"Snowy\":\n",
        "    print(\"Time for a ski trip!\")"
      ],
      "metadata": {
        "colab": {
          "base_uri": "https://localhost:8080/"
        },
        "id": "RYxom65LETYI",
        "outputId": "f464f845-cd73-4bce-d171-c01587c28dd3"
      },
      "execution_count": 23,
      "outputs": [
        {
          "output_type": "stream",
          "name": "stdout",
          "text": [
            "Enter preferred weather (Sunny, Rainy, or Snowy): Sunny\n",
            "Go to the beach!\n"
          ]
        }
      ]
    },
    {
      "cell_type": "markdown",
      "source": [
        "**Question 6: Discount Eligibility Checker**"
      ],
      "metadata": {
        "id": "6F2g5V7GEwJX"
      }
    },
    {
      "cell_type": "code",
      "source": [
        "total_amount_spent = int(input(\"Enter the total amount spent in $: \"))\n",
        "loyalty_member = input(\"Are you a loyalty program member (Yes/No):\")\n",
        "if (total_amount_spent >= 250 or loyalty_member == \"Yes\"):\n",
        "    print(\"You are eligible for a discount!\")\n",
        "    discount = total_amount_spent * 0.15\n",
        "    print(\"Discount: $\", discount)\n",
        "else:\n",
        "    print(\"You are not eligible for a discount.\")"
      ],
      "metadata": {
        "colab": {
          "base_uri": "https://localhost:8080/"
        },
        "id": "CIeAH-KUE0gH",
        "outputId": "91133f4b-5417-4792-9909-5b0c80a5d05a"
      },
      "execution_count": 25,
      "outputs": [
        {
          "output_type": "stream",
          "name": "stdout",
          "text": [
            "Enter the total amount spent in $: 300\n",
            "Are you a loyalty program member (Yes/No):no\n",
            "You are eligible for a discount!\n",
            "Discount: $ 45.0\n"
          ]
        }
      ]
    },
    {
      "cell_type": "markdown",
      "source": [
        "**Question 7: Event Invitation**"
      ],
      "metadata": {
        "id": "PMCNzqYnGSDT"
      }
    },
    {
      "cell_type": "code",
      "source": [
        "guest_list = list(input(\"Enter 5 guests name\").split())\n",
        "user_input = input(\"Enter the name of the guest you want to check: \")\n",
        "\n",
        "if user_input in guest_list:\n",
        "    print(\"The guest is invited!\")\n",
        "else:\n",
        "    print(\"The guest is not invited.\")"
      ],
      "metadata": {
        "colab": {
          "base_uri": "https://localhost:8080/"
        },
        "id": "ZhBDr793GTV3",
        "outputId": "7a78ccd1-7d88-478c-c0ed-80cd31298f60"
      },
      "execution_count": 28,
      "outputs": [
        {
          "output_type": "stream",
          "name": "stdout",
          "text": [
            "Enter 5 guests nameAli Ameer Amir Tariq Mehmood\n",
            "Enter the name of the guest you want to check: Ali\n",
            "The guest is invited!\n"
          ]
        }
      ]
    },
    {
      "cell_type": "markdown",
      "source": [
        "**Question 8: Movie Streaming Eligibility**"
      ],
      "metadata": {
        "id": "3tPrLxaiHCcp"
      }
    },
    {
      "cell_type": "code",
      "source": [
        "user_age = int(input(\"Enter your age: \"))\n",
        "movie_choice = input(\"Enter Movies Category you want to watch: ('Action/Animated/Documentaries')\")\n",
        "if user_age >=18 and movie_choice == \"action\":\n",
        "  print(\"You are eligible to watch action.\")\n",
        "elif user_age >=12 and movie_choice == \"documentaries\":\n",
        "  print(\"You are eligible to watch documentaries.\")\n",
        "else:\n",
        "  print(\"You can watch animated movies\")\n",
        ""
      ],
      "metadata": {
        "colab": {
          "base_uri": "https://localhost:8080/"
        },
        "id": "3URM2cBqHE__",
        "outputId": "daab9652-fc33-4c2b-d5b5-712bc2edcf3a"
      },
      "execution_count": 33,
      "outputs": [
        {
          "output_type": "stream",
          "name": "stdout",
          "text": [
            "Enter your age: 12\n",
            "Enter Movies Category you want to watch: ('Action/Animated/Documentaries')documentaries\n",
            "You are eligible to watch documentaries.\n"
          ]
        }
      ]
    },
    {
      "cell_type": "markdown",
      "source": [
        "**Question 9: Phone Number Formatter**"
      ],
      "metadata": {
        "id": "IhCXvIWnI59w"
      }
    },
    {
      "cell_type": "code",
      "source": [
        "#Takes a phone number as input from the user in the format 1234567890.\n",
        "#Formats the number into the standard format (123) 456-7890.\n",
        "\n",
        "phone_number = input(\"Enter a phone number in the format 1234567890: \")\n",
        "formatted_number = \"(\" + phone_number[0:3] + \") \" + phone_number[3:6] + \"-\" + phone_number[6:]\n",
        "print(\"Formatted Phone Number:\", formatted_number)\n",
        "\n"
      ],
      "metadata": {
        "colab": {
          "base_uri": "https://localhost:8080/"
        },
        "id": "BgeQKHGDI86O",
        "outputId": "fc796565-f349-4e9a-caf3-d80595609300"
      },
      "execution_count": 36,
      "outputs": [
        {
          "output_type": "stream",
          "name": "stdout",
          "text": [
            "Enter a phone number in the format 1234567890: 1234567890\n",
            "Formatted Phone Number: (123) 456-7890\n"
          ]
        }
      ]
    },
    {
      "cell_type": "markdown",
      "source": [
        "**Question 10: Package Shipping Cost**"
      ],
      "metadata": {
        "id": "_Ylb2wbmKIJh"
      }
    },
    {
      "cell_type": "code",
      "source": [
        "weight = int(input(\"Enter the weight of the package in kg: \"))\n",
        "if weight<=1:\n",
        "  print(\"Shipping Cost: $5\")\n",
        "elif weight>1 and weight<=5:\n",
        "  print(\"Shipping Cost: $10\")\n",
        "elif weight>5 and weight<=20:\n",
        "  print(\"Shipping Cost: $20\")\n",
        "elif weight>20:\n",
        "  print(\"Shipping Cost: $50\")\n",
        "else:\n",
        "  print(\"Invalid Weight\")"
      ],
      "metadata": {
        "colab": {
          "base_uri": "https://localhost:8080/"
        },
        "id": "RfaqpaBnKJLn",
        "outputId": "ee84c684-9e18-495b-a2e8-b468d5bbe4ea"
      },
      "execution_count": 39,
      "outputs": [
        {
          "output_type": "stream",
          "name": "stdout",
          "text": [
            "Enter the weight of the package in kg: 6\n",
            "Shipping Cost: $20\n"
          ]
        }
      ]
    },
    {
      "cell_type": "markdown",
      "source": [
        "**Question 11: Student Grading System**"
      ],
      "metadata": {
        "id": "k1oea3wqK6zB"
      }
    },
    {
      "cell_type": "code",
      "source": [
        "subject1 = int(input(\"Enter marks for subject 1: \"))\n",
        "subject2 = int(input(\"Enter marks for subject 2: \"))\n",
        "subject3 = int(input(\"Enter marks for subject 3: \"))\n",
        "subject4 = int(input(\"Enter marks for subject 4: \"))\n",
        "subject5 = int(input(\"Enter marks for subject 5: \"))\n",
        "\n",
        "total_marks= subject1 + subject2 + subject3 + subject4 + subject5\n",
        "percentage = (total_marks/5)\n",
        "print(\"Total Marks:\", total_marks)\n",
        "print(\"Percentage:\", percentage)\n",
        "\n",
        "# Prints the grade based on the following criteria:\n",
        "# 90% and above: Grade A\n",
        "# 80% to 89%: Grade B\n",
        "# 70% to 79%: Grade C\n",
        "# 60% to 69%: Grade D\n",
        "# Below 60%: Grade F\n",
        "\n",
        "if percentage >= 90:\n",
        "    print(\"Grade: A\")\n",
        "elif percentage >= 80:\n",
        "    print(\"Grade: B\")\n",
        "elif percentage >= 70:\n",
        "    print(\"Grade: C\")\n",
        "elif percentage >= 60:\n",
        "    print(\"Grade: D\")\n",
        "else:\n",
        "    print(\"Grade: F\")\n",
        "\n",
        "result = \"Pass\" if percentage >= 60 else \"Fail\"\n",
        "print(\"Result:\", result)"
      ],
      "metadata": {
        "colab": {
          "base_uri": "https://localhost:8080/"
        },
        "id": "KzrwLPipKxUd",
        "outputId": "37178fc0-7e29-4ad7-dca1-0361984d9f83"
      },
      "execution_count": 42,
      "outputs": [
        {
          "output_type": "stream",
          "name": "stdout",
          "text": [
            "Enter marks for subject 1: 85\n",
            "Enter marks for subject 2: 90\n",
            "Enter marks for subject 3: 78\n",
            "Enter marks for subject 4: 92\n",
            "Enter marks for subject 5: 88\n",
            "Total Marks: 433\n",
            "Percentage: 86.6\n",
            "Grade: B\n",
            "Result: Pass\n"
          ]
        }
      ]
    },
    {
      "cell_type": "code",
      "source": [
        "7"
      ],
      "metadata": {
        "id": "6iomdnKiLw6-"
      },
      "execution_count": null,
      "outputs": []
    }
  ]
}