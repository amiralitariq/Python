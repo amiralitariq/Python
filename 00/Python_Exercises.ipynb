{
  "nbformat": 4,
  "nbformat_minor": 0,
  "metadata": {
    "colab": {
      "provenance": [],
      "authorship_tag": "ABX9TyNaJmyI1+IBv05nfriqWllC",
      "include_colab_link": true
    },
    "kernelspec": {
      "name": "python3",
      "display_name": "Python 3"
    },
    "language_info": {
      "name": "python"
    }
  },
  "cells": [
    {
      "cell_type": "markdown",
      "metadata": {
        "id": "view-in-github",
        "colab_type": "text"
      },
      "source": [
        "<a href=\"https://colab.research.google.com/github/amiralitariq/Python/blob/main/Python_Exercises.ipynb\" target=\"_parent\"><img src=\"https://colab.research.google.com/assets/colab-badge.svg\" alt=\"Open In Colab\"/></a>"
      ]
    },
    {
      "cell_type": "markdown",
      "source": [
        "100+ Python challenging programming exercises for Python"
      ],
      "metadata": {
        "id": "q0_1RTE2v9d6"
      }
    },
    {
      "cell_type": "markdown",
      "source": [
        "**Question # 1**\n",
        "\n",
        "Write a program which will find all such numbers which are divisible by 7 but are not a multiple of 5, between 2000 and 3200 (both included). The numbers obtained should be printed in a comma-separated sequence on a single line.\n",
        "\n",
        "Hints: Consider use range(#begin, #end) method"
      ],
      "metadata": {
        "id": "BEnmFc_dwDNj"
      }
    },
    {
      "cell_type": "code",
      "source": [
        "list_of_numbers = range(2000, 3201)\n",
        "for num in list_of_numbers:\n",
        "  if num % 7 == 0 and num%5 !=0:\n",
        "    print(num, end = ',')"
      ],
      "metadata": {
        "colab": {
          "base_uri": "https://localhost:8080/"
        },
        "id": "AkcLuB6UxJ1L",
        "outputId": "2a1c371d-f381-4d44-e1b1-cbf0d9509dff"
      },
      "execution_count": null,
      "outputs": [
        {
          "output_type": "stream",
          "name": "stdout",
          "text": [
            "2002,2009,2016,2023,2030,2037,2044,2051,2058,2065,2072,2079,2086,2093,2100,2107,2114,2121,2128,2135,2142,2149,2156,2163,2170,2177,2184,2191,2198,2205,2212,2219,2226,2233,2240,2247,2254,2261,2268,2275,2282,2289,2296,2303,2310,2317,2324,2331,2338,2345,2352,2359,2366,2373,2380,2387,2394,2401,2408,2415,2422,2429,2436,2443,2450,2457,2464,2471,2478,2485,2492,2499,2506,2513,2520,2527,2534,2541,2548,2555,2562,2569,2576,2583,2590,2597,2604,2611,2618,2625,2632,2639,2646,2653,2660,2667,2674,2681,2688,2695,2702,2709,2716,2723,2730,2737,2744,2751,2758,2765,2772,2779,2786,2793,2800,2807,2814,2821,2828,2835,2842,2849,2856,2863,2870,2877,2884,2891,2898,2905,2912,2919,2926,2933,2940,2947,2954,2961,2968,2975,2982,2989,2996,3003,3010,3017,3024,3031,3038,3045,3052,3059,3066,3073,3080,3087,3094,3101,3108,3115,3122,3129,3136,3143,3150,3157,3164,3171,3178,3185,3192,3199,"
          ]
        }
      ]
    },
    {
      "cell_type": "code",
      "source": [
        "print(\",\".join([str(num) for num in range(2000,3201) if num%7==0 and num%5!=0]))"
      ],
      "metadata": {
        "colab": {
          "base_uri": "https://localhost:8080/"
        },
        "id": "iH-0ldyNyhMd",
        "outputId": "191ddcfe-3d8a-4e72-9e02-375084870ba5"
      },
      "execution_count": null,
      "outputs": [
        {
          "output_type": "stream",
          "name": "stdout",
          "text": [
            "2002,2009,2016,2023,2037,2044,2051,2058,2072,2079,2086,2093,2107,2114,2121,2128,2142,2149,2156,2163,2177,2184,2191,2198,2212,2219,2226,2233,2247,2254,2261,2268,2282,2289,2296,2303,2317,2324,2331,2338,2352,2359,2366,2373,2387,2394,2401,2408,2422,2429,2436,2443,2457,2464,2471,2478,2492,2499,2506,2513,2527,2534,2541,2548,2562,2569,2576,2583,2597,2604,2611,2618,2632,2639,2646,2653,2667,2674,2681,2688,2702,2709,2716,2723,2737,2744,2751,2758,2772,2779,2786,2793,2807,2814,2821,2828,2842,2849,2856,2863,2877,2884,2891,2898,2912,2919,2926,2933,2947,2954,2961,2968,2982,2989,2996,3003,3017,3024,3031,3038,3052,3059,3066,3073,3087,3094,3101,3108,3122,3129,3136,3143,3157,3164,3171,3178,3192,3199\n"
          ]
        }
      ]
    },
    {
      "cell_type": "markdown",
      "source": [
        "**Question 2**\n",
        "\n",
        "Write a program which can compute the factorial of a given numbers. The results should be printed in a comma-separated sequence on a single line. Suppose the following input is supplied to the program: 8 Then, the output should be: 40320\n",
        "\n",
        "Hints: In case of input data being supplied to the question, it should be assumed to be a console input."
      ],
      "metadata": {
        "id": "y4_AHvNzy6UQ"
      }
    },
    {
      "cell_type": "code",
      "source": [
        "input_num = int(input(\"Enter a positive number to find factorial: \"))\n",
        "\n",
        "if input_num < 0:\n",
        "    print(f\"You entered a negative number {input_num}, factorial is not defined.\")\n",
        "elif input_num == 0:\n",
        "    print(\"Factorial: 1\")  # 0! = 1\n",
        "else:\n",
        "    factorial = 1\n",
        "    while input_num > 0:\n",
        "        factorial *= input_num\n",
        "        input_num -= 1\n",
        "    print(f\"Factorial: {factorial}\")"
      ],
      "metadata": {
        "colab": {
          "base_uri": "https://localhost:8080/"
        },
        "id": "RzKhbJae0lv3",
        "outputId": "f44e1038-175e-472a-8eed-bcea57f8b272"
      },
      "execution_count": null,
      "outputs": [
        {
          "output_type": "stream",
          "name": "stdout",
          "text": [
            "Enter a positive number to find factorial: 0\n",
            "Factorial: 1\n"
          ]
        }
      ]
    },
    {
      "cell_type": "markdown",
      "source": [
        "Question 3\n",
        "\n",
        "With a given integral number n, write a program to generate a dictionary that contains (i, i*i) such that is an integral number between 1 and n (both included). and then the program should print the dictionary. Suppose the following input is supplied to the program: 8 Then, the output should be: {1: 1, 2: 4, 3: 9, 4: 16, 5: 25, 6: 36, 7: 49, 8: 64}\n",
        "\n",
        "Hints: In case of input data being supplied to the question, it should be assumed to be a console input. Consider use dict()"
      ],
      "metadata": {
        "id": "WL7RZq8V23qq"
      }
    },
    {
      "cell_type": "code",
      "source": [
        "# my this approach is wrong beacuse the format is not as of dictionary\n",
        "\n",
        "integral_num = int(input('Enter a number'))\n",
        "for num in range(1,integral_num+1):\n",
        "  print(f\"{num}: {num*num}\" , end = ',')"
      ],
      "metadata": {
        "colab": {
          "base_uri": "https://localhost:8080/"
        },
        "id": "pkrm77Is29lF",
        "outputId": "8cbc42fe-db4b-469a-a414-340cbee68900"
      },
      "execution_count": null,
      "outputs": [
        {
          "output_type": "stream",
          "name": "stdout",
          "text": [
            "Enter a number4\n",
            "1: 1,2: 4,3: 9,4: 16,"
          ]
        }
      ]
    },
    {
      "cell_type": "code",
      "source": [
        "#coreect solution\n",
        "\n",
        "user_input_num = int(input('Enter a number'))\n",
        "\n",
        "#creating empty dictionary\n",
        "dict_of_num ={}\n",
        "\n",
        "for num in range(1,user_input_num+1):\n",
        "  dict_of_num[num] = num*num\n",
        "\n",
        "print(dict_of_num)"
      ],
      "metadata": {
        "colab": {
          "base_uri": "https://localhost:8080/"
        },
        "id": "19N5ni8j5MCY",
        "outputId": "e9f8f2a4-0f12-4a50-c0fb-67e88728b49a"
      },
      "execution_count": null,
      "outputs": [
        {
          "output_type": "stream",
          "name": "stdout",
          "text": [
            "Enter a number67\n",
            "{1: 1, 2: 4, 3: 9, 4: 16, 5: 25, 6: 36, 7: 49, 8: 64, 9: 81, 10: 100, 11: 121, 12: 144, 13: 169, 14: 196, 15: 225, 16: 256, 17: 289, 18: 324, 19: 361, 20: 400, 21: 441, 22: 484, 23: 529, 24: 576, 25: 625, 26: 676, 27: 729, 28: 784, 29: 841, 30: 900, 31: 961, 32: 1024, 33: 1089, 34: 1156, 35: 1225, 36: 1296, 37: 1369, 38: 1444, 39: 1521, 40: 1600, 41: 1681, 42: 1764, 43: 1849, 44: 1936, 45: 2025, 46: 2116, 47: 2209, 48: 2304, 49: 2401, 50: 2500, 51: 2601, 52: 2704, 53: 2809, 54: 2916, 55: 3025, 56: 3136, 57: 3249, 58: 3364, 59: 3481, 60: 3600, 61: 3721, 62: 3844, 63: 3969, 64: 4096, 65: 4225, 66: 4356, 67: 4489}\n"
          ]
        }
      ]
    },
    {
      "cell_type": "markdown",
      "source": [
        "**Question 4**\n",
        "\n",
        "Write a program which accepts a sequence of comma-separated numbers from console and generate a list and a tuple which contains every number. Suppose the following input is supplied to the program: 34,67,55,33,12,98 Then, the output should be: ['34', '67', '55', '33', '12', '98'] ('34', '67', '55', '33', '12', '98')"
      ],
      "metadata": {
        "id": "Y8EP0ZdC6QZW"
      }
    },
    {
      "cell_type": "code",
      "source": [
        "user_list_of_num = input('Enter a list of numbers separated by comma: ')\n",
        "\n",
        "num_list = user_list_of_num.split(',') #converting input string to a list\n",
        "\n",
        "print(f\"List: {num_list}\")\n",
        "\n",
        "num_tuple = tuple(num_list)\n",
        "\n",
        "print(f\"Tuple: {num_tuple}\")\n",
        "\n"
      ],
      "metadata": {
        "colab": {
          "base_uri": "https://localhost:8080/"
        },
        "id": "EKPe_kHL6Wpg",
        "outputId": "aa2420ac-15a5-43d8-a26e-640eebd1318e"
      },
      "execution_count": null,
      "outputs": [
        {
          "output_type": "stream",
          "name": "stdout",
          "text": [
            "Enter a list of numbers separated by comma: 34,67,55,12,98\n",
            "List: ['34', '67', '55', '12', '98']\n",
            "Tuple: ('34', '67', '55', '12', '98')\n"
          ]
        }
      ]
    },
    {
      "cell_type": "markdown",
      "source": [
        "**Question 5**\n",
        "\n",
        "Define a class which has at least two methods: getString: to get a string from console input printString: to print the string in upper case. Also please include simple test function to test the class methods.\n",
        "\n",
        "Hints: Use init method to construct some parameters"
      ],
      "metadata": {
        "id": "cyi5EiyO8lyi"
      }
    },
    {
      "cell_type": "code",
      "source": [
        "class Printing:\n",
        "  def __init__(self):\n",
        "    self.user_string=\"\"\n",
        "  def getString(self):\n",
        "    self.user_string=input(\"Enter a string:\")\n",
        "  def printString(self):\n",
        "    print(f\"Your input in upper case is : {self.user_string.upper()}\")\n",
        "\n",
        "def test():\n",
        "  obj = Printing()\n",
        "  obj.getString()\n",
        "  obj.printString()\n",
        "\n",
        "test()"
      ],
      "metadata": {
        "colab": {
          "base_uri": "https://localhost:8080/"
        },
        "id": "UlQsxrHR8lg1",
        "outputId": "c34edf4d-a239-40d5-b365-d6019bba8f1f"
      },
      "execution_count": null,
      "outputs": [
        {
          "output_type": "stream",
          "name": "stdout",
          "text": [
            "Enter a string:amir ali\n",
            "Your input in upper case is : AMIR ALI\n"
          ]
        }
      ]
    },
    {
      "cell_type": "markdown",
      "source": [
        "**Question 6**\n",
        "\n",
        "Write a program that calculates and prints the value according to the given formula: Q = Square root of [(2 * C * D)/H] Following are the fixed values of C and H: C is 50. H is 30. D is the variable whose values should be input to your program in a comma-separated sequence. Example Let us assume the following comma separated input sequence is given to the program: 100,150,180 The output of the program should be: 18,22,24\n",
        "\n",
        "Hints: If the output received is in decimal form, it should be rounded off to its nearest value (for example, if the output received is 26.0, it should be printed as 26) In case of input data being supplied to the question, it should be assumed to be a console input."
      ],
      "metadata": {
        "id": "UCuTOgX8DHjU"
      }
    },
    {
      "cell_type": "code",
      "source": [
        "import math\n",
        "\n",
        "c: int=50\n",
        "h: int=30\n",
        "d=input('Enter numbers in a comma-separated sequence').split(',') # It is string\n",
        "\n",
        "#converting d to integer\n",
        "for i, num in enumerate(d):\n",
        "  num=int(num)\n",
        "  result =math.sqrt((2*c*num)/h)\n",
        "  if i==len(d)-1:\n",
        "    print(round(result))\n",
        "  else:\n",
        "    print(round(result),end=',')"
      ],
      "metadata": {
        "colab": {
          "base_uri": "https://localhost:8080/"
        },
        "id": "kBS6mgZzK4im",
        "outputId": "6d576074-68bc-4894-e7f2-9e20b980ed4e"
      },
      "execution_count": null,
      "outputs": [
        {
          "output_type": "stream",
          "name": "stdout",
          "text": [
            "Enter numbers in a comma-separated sequence100,150,190\n",
            "18,22,25\n"
          ]
        }
      ]
    },
    {
      "cell_type": "markdown",
      "source": [
        "**Question 7**\n",
        "\n",
        "Write a program which takes 2 digits, X,Y as input and generates a 2-dimensional array. The element value in the i-th row and j-th column of the array should be i*j. Note: i=0,1.., X-1; j=0,1,¡­Y-1. Example Suppose the following inputs are given to the program: 3,5 Then, the output of the program should be: [[0, 0, 0, 0, 0], [0, 1, 2, 3, 4], [0, 2, 4, 6, 8]]\n",
        "\n",
        "Hints: Note: In case of input data being supplied to the question, it should be assumed to be a console input in a comma-separated form."
      ],
      "metadata": {
        "id": "PB6G4mNbNNwS"
      }
    },
    {
      "cell_type": "code",
      "source": [
        "#taking first input i-e x\n",
        "\n",
        "x=int(input('Enter number of rows'))\n",
        "\n",
        "#taking second input i-e y\n",
        "\n",
        "y=int(input('Enter number of columns'))\n",
        "\n",
        "#creating a 2D array\n",
        "\n",
        "result=[]\n",
        "\n",
        "for num1 in range(0,x):\n",
        "  row=[]\n",
        "  for num2 in range(0,y):\n",
        "    row.append(num1*num2)\n",
        "  result.append(row)\n",
        "\n",
        "print(result)"
      ],
      "metadata": {
        "colab": {
          "base_uri": "https://localhost:8080/"
        },
        "id": "i2aK5gswNR05",
        "outputId": "159ae964-bb0f-42a5-c4a3-8694f4bba6e3"
      },
      "execution_count": null,
      "outputs": [
        {
          "output_type": "stream",
          "name": "stdout",
          "text": [
            "Enter number of rows3\n",
            "Enter number of columns5\n",
            "[[0, 0, 0, 0, 0], [0, 1, 2, 3, 4], [0, 2, 4, 6, 8]]\n"
          ]
        }
      ]
    },
    {
      "cell_type": "markdown",
      "source": [
        "**Question 8**\n",
        "\n",
        "Write a program that accepts a comma separated sequence of words as input and prints the words in a comma-separated sequence after sorting them alphabetically. Suppose the following input is supplied to the program: without,hello,bag,world Then, the output should be: bag,hello,without,world\n",
        "\n",
        "Hints: In case of input data being supplied to the question, it should be assumed to be a console input."
      ],
      "metadata": {
        "id": "rZkpMDAkSiQX"
      }
    },
    {
      "cell_type": "code",
      "source": [
        "string_user_input=input('Enter words in a comma-separated sequence: ').split(',')\n",
        "print(\"Words Before Sorting: \",string_user_input)\n",
        "sorted_words=sorted(string_user_input)\n",
        "print(\"Words After Sorting by using sorted(string_user_input): \", sorted_words)\n",
        "\n",
        "# print(\"Sorted by using .sort(): \", string_user_input.sort()) [It will lead to an error because .sort() doesn't return anything]\n",
        "\n",
        "string_user_input.sort()\n",
        "print(\"Words after sorting by using .sort()\", string_user_input)"
      ],
      "metadata": {
        "colab": {
          "base_uri": "https://localhost:8080/"
        },
        "id": "n2i4qaRQjway",
        "outputId": "d606cb53-5652-4075-f4b4-d4710bd4127d"
      },
      "execution_count": null,
      "outputs": [
        {
          "output_type": "stream",
          "name": "stdout",
          "text": [
            "Enter words in a comma-separated sequence: without,hello,bag,world\n",
            "Words Before Sorting:  ['without', 'hello', 'bag', 'world']\n",
            "Words After Sorting by using sorted(string_user_input):  ['bag', 'hello', 'without', 'world']\n",
            "Words after sorting by using .sort() ['bag', 'hello', 'without', 'world']\n"
          ]
        }
      ]
    },
    {
      "cell_type": "markdown",
      "source": [
        "**Question 9**\n",
        "\n",
        "Write a program that accepts sequence of lines as input and prints the lines after making all characters in the sentence capitalized. Suppose the following input is supplied to the program: Hello world Practice makes perfect Then, the output should be: HELLO WORLD PRACTICE MAKES PERFECT\n",
        "\n",
        "Hints: In case of input data being supplied to the question, it should be assumed to be a console input."
      ],
      "metadata": {
        "id": "loD97Kk1nY_T"
      }
    },
    {
      "cell_type": "code",
      "source": [
        "sentence_input=input(\"Enter a sentence: \")\n",
        "print(sentence_input.upper())\n"
      ],
      "metadata": {
        "colab": {
          "base_uri": "https://localhost:8080/"
        },
        "id": "JZoO4nIVnc-K",
        "outputId": "1ef424df-d590-4775-d57c-a58271e18bf0"
      },
      "execution_count": null,
      "outputs": [
        {
          "output_type": "stream",
          "name": "stdout",
          "text": [
            "Enter a sentence: Hello world Practice makes perfect\n",
            "HELLO WORLD PRACTICE MAKES PERFECT\n"
          ]
        }
      ]
    },
    {
      "cell_type": "markdown",
      "source": [
        "**Question 10**\n",
        "\n",
        "Write a program that accepts a sequence of whitespace separated words as input and prints the words after removing all duplicate words and sorting them alphanumerically. Suppose the following input is supplied to the program: hello world and practice makes perfect and hello world again Then, the output should be: again and hello makes perfect practice world\n",
        "\n",
        "Hints: In case of input data being supplied to the question, it should be assumed to be a console input. We use set container to remove duplicated data automatically and then use sorted() to sort the data."
      ],
      "metadata": {
        "id": "WxUneEgvoNQm"
      }
    },
    {
      "cell_type": "code",
      "source": [
        "input_words=input(\"Enter a string to remove duplicates:\").split(' ')\n",
        "result=[]\n",
        "\n",
        "for index,value in enumerate(input_words):\n",
        "  if value not in result:\n",
        "    result.append(value)\n",
        "result.sort()\n",
        "print(result)"
      ],
      "metadata": {
        "colab": {
          "base_uri": "https://localhost:8080/"
        },
        "id": "2buicuXon9dT",
        "outputId": "81b9ce0b-94b8-49b3-be5c-f322d1f1646d"
      },
      "execution_count": null,
      "outputs": [
        {
          "output_type": "stream",
          "name": "stdout",
          "text": [
            "Enter a string to remove duplicates:hello world and practice makes perfect and hello world again\n",
            "['again', 'and', 'hello', 'makes', 'perfect', 'practice', 'world']\n"
          ]
        }
      ]
    },
    {
      "cell_type": "markdown",
      "source": [
        "**Question 11**\n",
        "Write a program which accepts a sequence of comma separated 4 digit binary numbers as its input and then check whether they are divisible by 5 or not. The numbers that are divisible by 5 are to be printed in a comma separated sequence. Example: 0100,0011,1010,1001 Then the output should be: 1010 Notes: Assume the data is input by console.\n",
        "\n",
        "Hints: In case of input data being supplied to the question, it should be assumed to be a console input."
      ],
      "metadata": {
        "id": "GwuUt-8oSfyj"
      }
    },
    {
      "cell_type": "code",
      "source": [
        "num_input=input('Enter a sequence of comma separated 4 digit binary number').split(',')\n",
        "for num in num_input:\n",
        "  if(int(num,2)%5==0): #converting binary to decimal, We can using positional notation\n",
        "    print(num,end='')"
      ],
      "metadata": {
        "colab": {
          "base_uri": "https://localhost:8080/"
        },
        "id": "UZpO2nWCSnes",
        "outputId": "0c2807dc-c5d4-4b33-ee2c-5e1c4892daa8"
      },
      "execution_count": 1,
      "outputs": [
        {
          "output_type": "stream",
          "name": "stdout",
          "text": [
            "Enter a sequence of comma separated 4 digit binary number0100,0011,1010,1001\n",
            "1010"
          ]
        }
      ]
    },
    {
      "cell_type": "markdown",
      "source": [
        "**Question 12**\n",
        "Write a program, which will find all such numbers between 1000 and 3000 (both included) such that each digit of the number is an even number. The numbers obtained should be printed in a comma-separated sequence on a single line.\n",
        "\n",
        "Hints: In case of input data being supplied to the question, it should be assumed to be a console input."
      ],
      "metadata": {
        "id": "R9gRhnu2V5XF"
      }
    },
    {
      "cell_type": "code",
      "source": [
        "for num in range(1000,3001):\n",
        "  if(int(str(num)[0])%2==0 and int(str(num)[1])%2==0 and int(str(num)[2])%2==0 and int(str(num)[3])%2==0):\n",
        "    print(num,end=',')"
      ],
      "metadata": {
        "colab": {
          "base_uri": "https://localhost:8080/"
        },
        "id": "5fMA096-YT2i",
        "outputId": "396184e9-0f36-4e4c-a3a3-c8ae5379082f"
      },
      "execution_count": 7,
      "outputs": [
        {
          "output_type": "stream",
          "name": "stdout",
          "text": [
            "2000,2002,2004,2006,2008,2020,2022,2024,2026,2028,2040,2042,2044,2046,2048,2060,2062,2064,2066,2068,2080,2082,2084,2086,2088,2200,2202,2204,2206,2208,2220,2222,2224,2226,2228,2240,2242,2244,2246,2248,2260,2262,2264,2266,2268,2280,2282,2284,2286,2288,2400,2402,2404,2406,2408,2420,2422,2424,2426,2428,2440,2442,2444,2446,2448,2460,2462,2464,2466,2468,2480,2482,2484,2486,2488,2600,2602,2604,2606,2608,2620,2622,2624,2626,2628,2640,2642,2644,2646,2648,2660,2662,2664,2666,2668,2680,2682,2684,2686,2688,2800,2802,2804,2806,2808,2820,2822,2824,2826,2828,2840,2842,2844,2846,2848,2860,2862,2864,2866,2868,2880,2882,2884,2886,2888,"
          ]
        }
      ]
    },
    {
      "cell_type": "markdown",
      "source": [
        "**Question 13** Write a program that accepts a sentence and calculate the number of letters and digits. Suppose the following input is supplied to the program: hello world! 123 Then, the output should be: LETTERS 10 DIGITS 3\n",
        "\n",
        "Hints: In case of input data being supplied to the question, it should be assumed to be a console input."
      ],
      "metadata": {
        "id": "hfWiE8KtZk1h"
      }
    },
    {
      "cell_type": "code",
      "source": [
        "sentence_input=input('Enter a string: ')\n",
        "count_letters=0\n",
        "count_digits=0\n",
        "\n",
        "# for index,value in enumerate(sentence_input):\n",
        "for value in sentence_input:\n",
        "  if(value.isalpha()):\n",
        "    count_letters+=1\n",
        "  elif(value.isdigit()):\n",
        "    count_digits+=1\n",
        "\n",
        "print(f\"Letters: {count_letters}\")\n",
        "print(f\"Digits: {count_digits}\")"
      ],
      "metadata": {
        "colab": {
          "base_uri": "https://localhost:8080/"
        },
        "id": "jc4T2fTtZqcv",
        "outputId": "a0ec997b-d857-41a1-c29e-e20b63e54ae1"
      },
      "execution_count": 17,
      "outputs": [
        {
          "output_type": "stream",
          "name": "stdout",
          "text": [
            "Enter a string: ameer\n",
            "Letters: 5\n",
            "Digits: 0\n"
          ]
        }
      ]
    },
    {
      "cell_type": "markdown",
      "source": [
        "**Question 14**\n",
        "\n",
        "Write a program that accepts a sentence and calculate the number of upper case letters and lower case letters. Suppose the following input is supplied to the program: Hello world! Then, the output should be: UPPER CASE 1 LOWER CASE 9\n",
        "\n",
        "Hints: In case of input data being supplied to the question, it should be assumed to be a console input."
      ],
      "metadata": {
        "id": "a6bBakHxd4P2"
      }
    }
  ]
}