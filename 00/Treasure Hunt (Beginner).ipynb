{
 "cells": [
  {
   "cell_type": "markdown",
   "metadata": {},
   "source": [
    "Assignment 1: Treasure Hunt (Beginner)"
   ]
  },
  {
   "cell_type": "code",
   "execution_count": 1,
   "metadata": {},
   "outputs": [
    {
     "name": "stdout",
     "output_type": "stream",
     "text": [
      "11\n"
     ]
    }
   ],
   "source": [
    "import random\n",
    "\n",
    "# Initialize position and obstacle positions\n",
    "position_variable = 0\n",
    "treasure_position = 10\n",
    "obstacle_positions = random.sample(range(1, 10), 3)  # Three random obstacles between 1 and 9\n",
    "\n",
    "print(\"Welcome to the Treasure Hunt!\")\n",
    "print(\"Your goal is to reach position 10 to find the treasure.\")\n",
    "print(f\"Beware of obstacles at positions: {obstacle_positions}\\n\")\n",
    "\n",
    "# Game loop\n",
    "while True:\n",
    "    print(f\"Your current position: {position_variable}\")\n",
    "    user_input = input(\"Do you want to move 'forward' or 'backward': \").strip().lower()\n",
    "\n",
    "    if user_input == 'forward':\n",
    "        position_variable += 1\n",
    "    elif user_input == 'backward':\n",
    "        position_variable -= 1\n",
    "    else:\n",
    "        print(\"Invalid input. Please type 'forward' or 'backward'.\")\n",
    "        continue\n",
    "\n",
    "    # Check for boundaries\n",
    "    if position_variable < 0:\n",
    "        print(\"Warning! You can't go further backward. Resetting to position 0.\")\n",
    "        position_variable = 0\n",
    "\n",
    "    # Check for treasure\n",
    "    elif position_variable == treasure_position:\n",
    "        print(\"Congratulations! You found the treasure!\")\n",
    "        break\n",
    "\n",
    "    # Check for obstacles\n",
    "    elif position_variable in obstacle_positions:\n",
    "        print(f\"Oh no! You hit an obstacle at position {position_variable}. Skip your next move.\")\n",
    "        input(\"Press Enter to continue skipping your turn...\")\n",
    "\n",
    "    # General position update\n",
    "    else:\n",
    "        print(f\"You moved to position {position_variable}. Keep going!\\n\")\n"
   ]
  },
  {
   "cell_type": "code",
   "execution_count": null,
   "metadata": {},
   "outputs": [],
   "source": []
  }
 ],
 "metadata": {
  "kernelspec": {
   "display_name": "Python 3",
   "language": "python",
   "name": "python3"
  },
  "language_info": {
   "codemirror_mode": {
    "name": "ipython",
    "version": 3
   },
   "file_extension": ".py",
   "mimetype": "text/x-python",
   "name": "python",
   "nbconvert_exporter": "python",
   "pygments_lexer": "ipython3",
   "version": "3.13.0"
  }
 },
 "nbformat": 4,
 "nbformat_minor": 2
}
