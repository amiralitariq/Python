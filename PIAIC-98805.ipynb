{
 "cells": [
  {
   "cell_type": "markdown",
   "metadata": {},
   "source": [
    "Chapter 3: Lists in Python"
   ]
  },
  {
   "cell_type": "markdown",
   "metadata": {},
   "source": [
    "Exercise 3-1: Names"
   ]
  },
  {
   "cell_type": "code",
   "execution_count": 1,
   "metadata": {},
   "outputs": [
    {
     "name": "stdout",
     "output_type": "stream",
     "text": [
      "Faizan\n",
      "Ali\n",
      "Umer\n",
      "Khisal\n",
      "\t\n",
      "Faizan Ali Umer Khisal\n"
     ]
    }
   ],
   "source": [
    "names: list =['Faizan','Ali','Umer','Khisal'] #Storing the name in a list called names\n",
    "print(names[0]) #output of each index \n",
    "print(names[1])\n",
    "print(names[2])\n",
    "print(names[3]) \n",
    "print(\"\\t\") #adding line break\n",
    "print(names[0],names[1],names[2],names[3]) #Printing all in single line"
   ]
  },
  {
   "cell_type": "markdown",
   "metadata": {},
   "source": [
    "Exercise 3-2: Greetings"
   ]
  },
  {
   "cell_type": "code",
   "execution_count": 13,
   "metadata": {},
   "outputs": [
    {
     "name": "stdout",
     "output_type": "stream",
     "text": [
      "Hi! Faizan, Good day, hope you're doing well!\n",
      "Hi! Ali, Good day, hope you're doing well!\n",
      "Hi! Umer, Good day, hope you're doing well!\n",
      "Hi! Khisal, Good day, hope you're doing well!\n"
     ]
    }
   ],
   "source": [
    "for name in names: #Using for loop to iterate over the list and print the same message\n",
    "    print(f\"Hi! {name}, Good day, hope you're doing well!\")"
   ]
  },
  {
   "cell_type": "markdown",
   "metadata": {},
   "source": [
    "Exercise 3-3: Your Own List"
   ]
  },
  {
   "cell_type": "code",
   "execution_count": 16,
   "metadata": {},
   "outputs": [
    {
     "name": "stdout",
     "output_type": "stream",
     "text": [
      "['Tesla', 'Hyundai', 'Suzuki', 'Honda']\n",
      "I would like to own a Tesla.\n",
      "The Hyundai cars are very reliable.\n",
      "Suzuki cars are budget-friendly and popular in many countries.\n",
      "Honda makes excellent motorcycles and cars.\n"
     ]
    }
   ],
   "source": [
    "car_list = ['Tesla', 'Hyundai', 'Suzuki', 'Honda'] \n",
    "\n",
    "print(car_list)\n",
    "\n",
    "for car in car_list:\n",
    "    if car == 'Tesla':\n",
    "        print(f\"I would like to own a {car}.\")\n",
    "    elif car == 'Hyundai':\n",
    "        print(f\"The {car} cars are very reliable.\")\n",
    "    elif car == 'Suzuki':\n",
    "        print(f\"{car} cars are budget-friendly and popular in many countries.\")\n",
    "    elif car == 'Honda':\n",
    "        print(f\"{car} makes excellent motorcycles and cars.\")\n"
   ]
  },
  {
   "cell_type": "markdown",
   "metadata": {},
   "source": [
    "Exercise 3-4: Guest List"
   ]
  },
  {
   "cell_type": "code",
   "execution_count": 18,
   "metadata": {},
   "outputs": [
    {
     "name": "stdout",
     "output_type": "stream",
     "text": [
      "['Abdullah', 'Yasir', 'Fraz']\n",
      "Assalamu Alaikum Abdullah, I would be delighted if you could join me for dinner at my place. It would be an honor to have you.\n",
      "Assalamu Alaikum Yasir, I would be delighted if you could join me for dinner at my place. It would be an honor to have you.\n",
      "Assalamu Alaikum Fraz, I would be delighted if you could join me for dinner at my place. It would be an honor to have you.\n"
     ]
    }
   ],
   "source": [
    "guest_list = ['Abdullah', 'Yasir', 'Fraz']\n",
    "\n",
    "print(guest_list)\n",
    "\n",
    "for guest in guest_list:\n",
    "    print(f\"Assalamu Alaikum {guest}, I would be delighted if you could join me for dinner at my place. It would be an honor to have you.\")\n"
   ]
  },
  {
   "cell_type": "markdown",
   "metadata": {},
   "source": [
    "Exercise 3-5: Changing Guest List"
   ]
  },
  {
   "cell_type": "code",
   "execution_count": 23,
   "metadata": {},
   "outputs": [
    {
     "name": "stdout",
     "output_type": "stream",
     "text": [
      "Initial Invitations:\n",
      "Assalamu Alaikum Abdullah, I would be delighted if you could join me for dinner.\n",
      "Assalamu Alaikum Yasir, I would be delighted if you could join me for dinner.\n",
      "Assalamu Alaikum Fraz, I would be delighted if you could join me for dinner.\n",
      "\n",
      "Unfortunately, Yasir cannot make it to the dinner.\n",
      "\n",
      "Updated Invitations:\n",
      "Assalamu Alaikum Abdullah, I would be delighted if you could join me for dinner.\n",
      "Assalamu Alaikum Ameer Hamza, I would be delighted if you could join me for dinner.\n",
      "Assalamu Alaikum Fraz, I would be delighted if you could join me for dinner.\n"
     ]
    }
   ],
   "source": [
    "guest_list = ['Abdullah', 'Yasir', 'Fraz']\n",
    "\n",
    "print(\"Initial Invitations:\")\n",
    "for guest in guest_list:\n",
    "    print(f\"Assalamu Alaikum {guest}, I would be delighted if you could join me for dinner.\")\n",
    "\n",
    "unavailable_guest = 'Yasir'\n",
    "print(f\"\\nUnfortunately, {unavailable_guest} cannot make it to the dinner.\")\n",
    "\n",
    "guest_list[1] = 'Ameer Hamza'\n",
    "\n",
    "print(\"\\nUpdated Invitations:\")\n",
    "for guest in guest_list:\n",
    "    print(f\"Assalamu Alaikum {guest}, I would be delighted if you could join me for dinner.\")\n"
   ]
  },
  {
   "cell_type": "markdown",
   "metadata": {},
   "source": [
    "Exercise 3-6: More Guests"
   ]
  },
  {
   "cell_type": "code",
   "execution_count": 26,
   "metadata": {},
   "outputs": [
    {
     "name": "stdout",
     "output_type": "stream",
     "text": [
      "Good news! I found a bigger dinner table.\n",
      "\n",
      "Guest List after modifying the list: ['Ali', 'Abdullah', 'Sara', 'Ameer Hamza', 'Fraz', 'Hamid'] \n",
      "\n",
      "Updated Invitations:\n",
      "Assalamu Alaikum Ali, I would be delighted if you could join me for dinner.\n",
      "Assalamu Alaikum Abdullah, I would be delighted if you could join me for dinner.\n",
      "Assalamu Alaikum Sara, I would be delighted if you could join me for dinner.\n",
      "Assalamu Alaikum Ameer Hamza, I would be delighted if you could join me for dinner.\n",
      "Assalamu Alaikum Fraz, I would be delighted if you could join me for dinner.\n",
      "Assalamu Alaikum Hamid, I would be delighted if you could join me for dinner.\n"
     ]
    }
   ],
   "source": [
    "# Original list of guests\n",
    "guest_list = ['Abdullah', 'Ameer Hamza', 'Fraz']\n",
    "\n",
    "# Informing about the bigger table\n",
    "print(\"Good news! I found a bigger dinner table.\\n\")\n",
    "\n",
    "# Adding new guests\n",
    "guest_list.insert(0, 'Ali')  # Adding to the beginning\n",
    "guest_list.insert(2, 'Sara')  # Adding to the middle\n",
    "guest_list.append('Hamid')    # Adding to the end\n",
    "\n",
    "#update guest list\n",
    "print(\"Guest List after modifying the list:\",guest_list,\"\\n\")\n",
    "\n",
    "# New set of invitations\n",
    "print(\"Updated Invitations:\")\n",
    "for guest in guest_list:\n",
    "    print(f\"Assalamu Alaikum {guest}, I would be delighted if you could join me for dinner.\")\n"
   ]
  },
  {
   "cell_type": "markdown",
   "metadata": {},
   "source": [
    "Exercise 3-7: Shrinking Guest List"
   ]
  },
  {
   "cell_type": "code",
   "execution_count": 30,
   "metadata": {},
   "outputs": [
    {
     "name": "stdout",
     "output_type": "stream",
     "text": [
      "Unfortunately, the new dinner table won’t arrive in time, and I can invite only two people for dinner.\n",
      "\n",
      "Sorry, Hamid, I can’t invite you to dinner.\n",
      "Sorry, Sara, I can’t invite you to dinner.\n",
      "Sorry, Ali, I can’t invite you to dinner.\n",
      "Sorry, Fraz, I can’t invite you to dinner.\n",
      "\n",
      "Remaining guests:\n",
      "Assalamu Alaikum Abdullah, you are still invited to dinner.\n",
      "Assalamu Alaikum Ameer Hamza, you are still invited to dinner.\n",
      "\n",
      "Final guest list: []\n"
     ]
    }
   ],
   "source": [
    "# Original guest list\n",
    "guest_list = ['Abdullah', 'Ameer Hamza', 'Fraz', 'Ali', 'Sara', 'Hamid']\n",
    "\n",
    "# Message about limited space\n",
    "print(\"Unfortunately, the new dinner table won’t arrive in time, and I can invite only two people for dinner.\\n\")\n",
    "\n",
    "# Reducing the guest list to two people\n",
    "while len(guest_list) > 2:\n",
    "    removed_guest = guest_list.pop()\n",
    "    print(f\"Sorry, {removed_guest}, I can’t invite you to dinner.\")\n",
    "\n",
    "# Informing the remaining guests they’re still invited\n",
    "print(\"\\nRemaining guests:\")\n",
    "for guest in guest_list:\n",
    "    print(f\"Assalamu Alaikum {guest}, you are still invited to dinner.\")\n",
    "\n",
    "# Removing the last two guests and ensuring the list is empty\n",
    "del guest_list[:]\n",
    "print(\"\\nFinal guest list:\", guest_list)  # Should print an empty list\n"
   ]
  },
  {
   "cell_type": "markdown",
   "metadata": {},
   "source": [
    "Exercise 3-8: Seeing the World"
   ]
  },
  {
   "cell_type": "code",
   "execution_count": 38,
   "metadata": {},
   "outputs": [
    {
     "name": "stdout",
     "output_type": "stream",
     "text": [
      "Raw Countries List: ['America', 'Dubai', 'Korea', 'Australia', 'Canada', 'Germany']\n",
      "Sorted List: ['America', 'Australia', 'Canada', 'Dubai', 'Germany', 'Korea']\n",
      "\n",
      "Checking the memory address of both lists \n",
      "\n",
      "Address of Memory used for world tour list: 2310422356736\n",
      "Address of Memory used for world tour list after sorting: 2310422358528\n"
     ]
    }
   ],
   "source": [
    "world_tour_list: list=['America','Dubai','Korea','Australia','Canada','Germany']\n",
    "print(\"Raw Countries List:\",world_tour_list)\n",
    "sorted_tour_list = sorted(world_tour_list)\n",
    "print(\"Sorted List:\",sorted_tour_list)\n",
    "\n",
    "print(\"\\nChecking the memory address of both lists \\n\")\n",
    "\n",
    "print(\"Address of Memory used for world tour list:\",id(world_tour_list))\n",
    "print(\"Address of Memory used for world tour list after sorting:\",id(sorted_tour_list))"
   ]
  },
  {
   "cell_type": "code",
   "execution_count": 46,
   "metadata": {},
   "outputs": [
    {
     "name": "stdout",
     "output_type": "stream",
     "text": [
      "Original List: ['Paris', 'Tokyo', 'New York', 'Sydney', 'Dubai']\n",
      "\n",
      "Alphabetical Order: ['Dubai', 'New York', 'Paris', 'Sydney', 'Tokyo']\n",
      "\n",
      "Original List after sorted(): ['Paris', 'Tokyo', 'New York', 'Sydney', 'Dubai']\n",
      "\n",
      "Reverse Alphabetical Order: ['Tokyo', 'Sydney', 'Paris', 'New York', 'Dubai']\n",
      "\n",
      "Original List after reverse sorted(): ['Paris', 'Tokyo', 'New York', 'Sydney', 'Dubai']\n",
      "\n",
      "List after reverse(): ['Dubai', 'Sydney', 'New York', 'Tokyo', 'Paris']\n",
      "\n",
      "List after reversing again: ['Paris', 'Tokyo', 'New York', 'Sydney', 'Dubai']\n",
      "\n",
      "List after sort() in alphabetical order: ['Dubai', 'New York', 'Paris', 'Sydney', 'Tokyo']\n",
      "\n",
      "List after sort() in reverse-alphabetical order: ['Tokyo', 'Sydney', 'Paris', 'New York', 'Dubai']\n"
     ]
    }
   ],
   "source": [
    "# List of places I want to visit\n",
    "places_to_visit = ['Paris', 'Tokyo', 'New York', 'Sydney', 'Dubai']\n",
    "\n",
    "# Print the original list (unsorted)\n",
    "print(\"Original List:\", places_to_visit)\n",
    "\n",
    "# Print the list in alphabetical order using sorted() (without modifying the original list)\n",
    "print(\"\\nAlphabetical Order:\", sorted(places_to_visit))\n",
    "\n",
    "# Show that the original list is still in its original order\n",
    "print(\"\\nOriginal List after sorted():\", places_to_visit)\n",
    "\n",
    "# Print the list in reverse-alphabetical order using sorted() (without modifying the original list)\n",
    "print(\"\\nReverse Alphabetical Order:\", sorted(places_to_visit, reverse=True))\n",
    "\n",
    "# Show that the original list is still in its original order\n",
    "print(\"\\nOriginal List after reverse sorted():\", places_to_visit)\n",
    "\n",
    "# Reverse the order of the list using reverse()\n",
    "places_to_visit.reverse()\n",
    "print(\"\\nList after reverse():\", places_to_visit)\n",
    "\n",
    "# Reverse the order again using reverse() to return to the original order\n",
    "places_to_visit.reverse()\n",
    "print(\"\\nList after reversing again:\", places_to_visit)\n",
    "\n",
    "# Sort the list in alphabetical order using sort()\n",
    "places_to_visit.sort()\n",
    "print(\"\\nList after sort() in alphabetical order:\", places_to_visit)\n",
    "\n",
    "# Sort the list in reverse-alphabetical order using sort()\n",
    "places_to_visit.sort(reverse=True)\n",
    "print(\"\\nList after sort() in reverse-alphabetical order:\", places_to_visit)\n"
   ]
  },
  {
   "cell_type": "markdown",
   "metadata": {},
   "source": [
    "Exercise 3-9: Dinner Guests"
   ]
  },
  {
   "cell_type": "code",
   "execution_count": 49,
   "metadata": {},
   "outputs": [
    {
     "name": "stdout",
     "output_type": "stream",
     "text": [
      "\n",
      "I am inviting 3 people to dinner.\n"
     ]
    }
   ],
   "source": [
    "guest_list = ['Abdullah', 'Yasir', 'Fraz']\n",
    "print(f\"\\nI am inviting {len(guest_list)} people to dinner.\")"
   ]
  },
  {
   "cell_type": "markdown",
   "metadata": {},
   "source": [
    "Exercise 3-10: Every Function"
   ]
  },
  {
   "cell_type": "code",
   "execution_count": 51,
   "metadata": {},
   "outputs": [
    {
     "name": "stdout",
     "output_type": "stream",
     "text": [
      "\n",
      "Number of countries in the list: 5\n",
      "\n",
      "Countries in alphabetical order: ['Australia', 'Brazil', 'Canada', 'Germany', 'Japan']\n",
      "\n",
      "Countries in reverse order: ['Brazil', 'Japan', 'Germany', 'Australia', 'Canada']\n",
      "\n",
      "After appending Mexico: ['Canada', 'Australia', 'Germany', 'Japan', 'Brazil', 'Mexico']\n",
      "\n",
      "After inserting USA at the beginning: ['USA', 'Canada', 'Australia', 'Germany', 'Japan', 'Brazil', 'Mexico']\n",
      "\n",
      "After removing India: ['USA', 'Canada', 'Australia', 'Germany', 'Brazil', 'Mexico']\n",
      "\n",
      "After popping the last country (Mexico): ['USA', 'Canada', 'Australia', 'Germany', 'Brazil']\n",
      "\n",
      "After deleting the country at index 2: ['USA', 'Canada', 'Germany', 'Brazil']\n",
      "\n",
      "After sorting the list in alphabetical order: ['Brazil', 'Canada', 'Germany', 'USA']\n",
      "\n",
      "After reversing the list: ['USA', 'Germany', 'Canada', 'Brazil']\n"
     ]
    }
   ],
   "source": [
    "countries = ['Canada', 'Australia', 'Germany','Japan', 'Brazil']\n",
    "\n",
    "print(f\"\\nNumber of countries in the list: {len(countries)}\")\n",
    "\n",
    "print(f\"\\nCountries in alphabetical order: {sorted(countries)}\")\n",
    "\n",
    "print(f\"\\nCountries in reverse order: {list(reversed(countries))}\")\n",
    "\n",
    "countries.append('Mexico')\n",
    "print(f\"\\nAfter appending Mexico: {countries}\")\n",
    "\n",
    "countries.insert(0, 'USA')\n",
    "print(f\"\\nAfter inserting USA at the beginning: {countries}\")\n",
    "\n",
    "countries.remove('Japan')\n",
    "print(f\"\\nAfter removing India: {countries}\")\n",
    "\n",
    "last_country = countries.pop()\n",
    "print(f\"\\nAfter popping the last country ({last_country}): {countries}\")\n",
    "\n",
    "del countries[2]\n",
    "print(f\"\\nAfter deleting the country at index 2: {countries}\")\n",
    "\n",
    "countries.sort()\n",
    "print(f\"\\nAfter sorting the list in alphabetical order: {countries}\")\n",
    "\n",
    "countries.reverse()\n",
    "print(f\"\\nAfter reversing the list: {countries}\")\n"
   ]
  },
  {
   "cell_type": "markdown",
   "metadata": {},
   "source": [
    "Exercise 3-11: Intentional Error"
   ]
  },
  {
   "cell_type": "code",
   "execution_count": 55,
   "metadata": {},
   "outputs": [
    {
     "name": "stdout",
     "output_type": "stream",
     "text": [
      "Index 10 is out of range. The list has only 5 elements.\n"
     ]
    }
   ],
   "source": [
    "# List of countries\n",
    "countries = ['Canada', 'Australia', 'Germany', 'Pakistan', 'Japan']\n",
    "\n",
    "# Check if the index exists before accessing it\n",
    "index = 7  # Try to access index 7\n",
    "if index < len(countries):\n",
    "    print(countries[index])\n",
    "else:\n",
    "    print(f\"Index {index} is out of range. The list has only {len(countries)} elements.\")\n"
   ]
  }
 ],
 "metadata": {
  "kernelspec": {
   "display_name": "Python 3",
   "language": "python",
   "name": "python3"
  },
  "language_info": {
   "codemirror_mode": {
    "name": "ipython",
    "version": 3
   },
   "file_extension": ".py",
   "mimetype": "text/x-python",
   "name": "python",
   "nbconvert_exporter": "python",
   "pygments_lexer": "ipython3",
   "version": "3.13.1"
  }
 },
 "nbformat": 4,
 "nbformat_minor": 2
}
